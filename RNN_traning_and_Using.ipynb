{
 "cells": [
  {
   "cell_type": "markdown",
   "metadata": {},
   "source": [
    "# VsoshRnnProject / RNN model"
   ]
  },
  {
   "cell_type": "code",
   "execution_count": null,
   "metadata": {
    "id": "ckhpiKdXnuiq"
   },
   "outputs": [],
   "source": [
    "import torch\n",
    "import torch.nn as nn\n",
    "import torch.optim as optim\n",
    "import pandas as pd\n",
    "import numpy as np\n",
    "import matplotlib.pyplot as plt\n",
    "import gensim\n",
    "import nltk\n",
    "import gc\n",
    "\n",
    "import torch.nn.functional as F\n",
    "from sklearn.metrics import accuracy_score, precision_score, recall_score, f1_score, roc_auc_score\n",
    "from tqdm.notebook import tqdm\n",
    "from sklearn.model_selection import train_test_split\n",
    "from torch.utils.data import Dataset, DataLoader\n",
    "from torch.nn.utils.rnn import pack_padded_sequence, pad_sequence\n",
    "%matplotlib inline\n",
    "\n",
    "from ipywidgets import FloatProgress"
   ]
  },
  {
   "cell_type": "code",
   "execution_count": null,
   "metadata": {
    "colab": {
     "base_uri": "https://localhost:8080/"
    },
    "executionInfo": {
     "elapsed": 540,
     "status": "ok",
     "timestamp": 1739621698871,
     "user": {
      "displayName": "Tima Medveditskov",
      "userId": "04748666948672749462"
     },
     "user_tz": -180
    },
    "id": "_-mb4LIqnui0",
    "outputId": "7f6c0e20-10f7-460b-c303-e030c277f4f0"
   },
   "outputs": [],
   "source": [
    "# need onle at first start\n",
    "nltk.download('punkt_tab')"
   ]
  },
  {
   "cell_type": "markdown",
   "metadata": {
    "id": "eYTfnUMjnui1"
   },
   "source": [
    "# Training RNN Model"
   ]
  },
  {
   "cell_type": "markdown",
   "metadata": {
    "id": "JjJAvFTxnui4"
   },
   "source": [
    "Device"
   ]
  },
  {
   "cell_type": "code",
   "execution_count": null,
   "metadata": {
    "colab": {
     "base_uri": "https://localhost:8080/"
    },
    "executionInfo": {
     "elapsed": 272,
     "status": "ok",
     "timestamp": 1739621701086,
     "user": {
      "displayName": "Tima Medveditskov",
      "userId": "04748666948672749462"
     },
     "user_tz": -180
    },
    "id": "DQj-2PIonui5",
    "outputId": "a278a6ed-87cb-40ad-dc5b-b396e6ba373a"
   },
   "outputs": [],
   "source": [
    "# переносим вычисления на графический процессор\n",
    "device = torch.device(\"cuda\" if torch.cuda.is_available() else \"cpu\")\n",
    "print(f\"Cuda available: {torch.cuda.is_available()} \\n\")\n",
    "\n",
    "# .to(device)"
   ]
  },
  {
   "cell_type": "markdown",
   "metadata": {
    "id": "dESh0sCmnui7"
   },
   "source": [
    "Load gensim model (Word2Vec)"
   ]
  },
  {
   "cell_type": "code",
   "execution_count": null,
   "metadata": {
    "id": "mCNju5Q_nui8"
   },
   "outputs": [],
   "source": [
    "w2v = gensim.models.Word2Vec.load(\"word2vec_weights.model\")"
   ]
  },
  {
   "cell_type": "markdown",
   "metadata": {
    "id": "uKxx9qq8nui8"
   },
   "source": [
    "Create data"
   ]
  },
  {
   "cell_type": "code",
   "execution_count": null,
   "metadata": {
    "id": "PCVNPpo8nui9"
   },
   "outputs": [],
   "source": [
    "def text_to_vec(text):\n",
    "    tokens = nltk.tokenize.word_tokenize(text.lower())\n",
    "    vector = [w2v.wv[token].tolist() if token in w2v.wv else w2v.wv['notfound'].tolist() for token in tokens]\n",
    "    return vector\n",
    "\n",
    "def modif_ans(ans):\n",
    "    if int(ans) == 0:\n",
    "        return 0.01\n",
    "    else:\n",
    "        return 0.99"
   ]
  },
  {
   "cell_type": "code",
   "execution_count": null,
   "metadata": {
    "colab": {
     "base_uri": "https://localhost:8080/",
     "height": 81,
     "referenced_widgets": [
      "4219dd9221e0425c93c960fd18dccf13",
      "7976f9d91fbe4c7882de6060e21e3148",
      "d354cecda48c4b50ac434a74959a42ae",
      "dad0f27048a74140ae461a9f381d98fc",
      "e0400e6ddfa540c08ecbee936c87469c",
      "e33505b7a46d426cb7f591f47e8fd56a",
      "f17912108053436c950a987e043a9c09",
      "705866fc60724914b0d6c1726ed27e42",
      "229fe209437144e6a1d221d534e88edf",
      "4d76b304f83a478799d743a1045f736a",
      "e32b231a87c14220a85c52ceafebb38c",
      "255e5128b7b245da91322f54d320d2e2",
      "77b060e0e4b34fd6ac361a90d5ca6f20",
      "2a57e6ce66b2418386f8dc5652ef4943",
      "9423f01d35f4493c9b97d56be05174e2",
      "094b743d9640481fa9906cc5b63b79c0",
      "e0940e2a2e52410090a92e09fedd30fa",
      "2d85f27670b240ea9df15bdd7d19d978",
      "709b915b764e4309bbc7c8775099962a",
      "50986068eb1e4d059f15c95091171b94",
      "e27c3666186c4123a2c5927ed15b7b74",
      "e1b765ebf5b9472f99011c3572a6b630"
     ]
    },
    "executionInfo": {
     "elapsed": 17195,
     "status": "ok",
     "timestamp": 1739621771958,
     "user": {
      "displayName": "Tima Medveditskov",
      "userId": "04748666948672749462"
     },
     "user_tz": -180
    },
    "id": "e4bqKbcinui-",
    "outputId": "3bbe960c-113f-4e87-b235-4526644db9fa"
   },
   "outputs": [],
   "source": [
    "df = pd.read_csv('all.csv')\n",
    "df = df.dropna(subset=['text'])\n",
    "df = df.dropna(subset=['label'])\n",
    "\n",
    "# Включаем tqdm для отслеживания прогресса\n",
    "tqdm.pandas(desc=\"text_to_vec\")\n",
    "# Применяем text_to_vec с прогресс-баром\n",
    "df['vec'] = df['text'].progress_apply(text_to_vec)\n",
    "\n",
    "# Включаем tqdm для отслеживания прогресса\n",
    "tqdm.pandas(desc=\"modif_ans\")\n",
    "# Применяем modif_ans с прогресс-баром\n",
    "df['ans'] = df['label'].progress_apply(modif_ans)"
   ]
  },
  {
   "cell_type": "markdown",
   "metadata": {
    "id": "raQA007tnujA"
   },
   "source": [
    "Create Dataset and Dataloader"
   ]
  },
  {
   "cell_type": "code",
   "execution_count": null,
   "metadata": {
    "id": "8ULn5AYwnujA"
   },
   "outputs": [],
   "source": [
    "class ProcessedTextDataset(Dataset):\n",
    "    def __init__(self, vectors, labels):\n",
    "        self.vectors = vectors\n",
    "        self.labels = labels\n",
    "\n",
    "    def __len__(self):\n",
    "        return len(self.vectors)\n",
    "\n",
    "    def __getitem__(self, idx):\n",
    "        vector_tensor = torch.tensor(self.vectors[idx], dtype=torch.float32)\n",
    "        label_tensor = torch.tensor(self.labels[idx], dtype=torch.float32)\n",
    "        return vector_tensor.to(device), label_tensor.to(device)\n",
    "\n",
    "def collate_fn(batch):\n",
    "    # Разделяем батч на входные данные и метки\n",
    "    sequences = [item[0] for item in batch]\n",
    "    labels = [item[1] for item in batch]\n",
    "\n",
    "    # Считаем длины последовательностей\n",
    "    lengths = torch.tensor([len(seq) for seq in sequences], dtype=torch.int64)\n",
    "\n",
    "    # Сортируем последовательности по длине (по убыванию)\n",
    "    sorted_indices = torch.argsort(lengths, descending=True)\n",
    "    sequences = [sequences[i] for i in sorted_indices]\n",
    "    labels = [labels[i] for i in sorted_indices]\n",
    "    lengths = lengths[sorted_indices]\n",
    "\n",
    "    # Паддим последовательности до максимальной длины\n",
    "    padded_sequences = pad_sequence(sequences, batch_first=True)\n",
    "    labels = torch.tensor(labels, dtype=torch.float32)\n",
    "\n",
    "    # Возвращаем упакованные последовательности\n",
    "    packed_sequences = pack_padded_sequence(padded_sequences, lengths, batch_first=True, enforce_sorted=True)\n",
    "    return packed_sequences.to(device), labels.to(device)"
   ]
  },
  {
   "cell_type": "code",
   "execution_count": null,
   "metadata": {
    "id": "YT36nh88nujB"
   },
   "outputs": [],
   "source": [
    "# Разделяем данные\n",
    "X_train, X_test, Y_train, Y_test = train_test_split(df['vec'], df['ans'], test_size=0.3, shuffle=True)\n",
    "\n",
    "# Создаем датасеты\n",
    "train_dataset = ProcessedTextDataset(X_train.tolist(), Y_train.tolist())\n",
    "test_dataset = ProcessedTextDataset(X_test.tolist(), Y_test.tolist())\n",
    "\n",
    "# Создаем DataLoader\n",
    "train_loader = DataLoader(train_dataset, batch_size=32, shuffle=True, collate_fn=collate_fn)\n",
    "test_loader = DataLoader(test_dataset, batch_size=32, shuffle=False, collate_fn=collate_fn)\n",
    "\n",
    "# # Проверка работы DataLoader\n",
    "# for batch_idx, (packed_batch, labels_batch) in enumerate(train_loader):\n",
    "#     print(f\"Batch {batch_idx + 1}\")\n",
    "#     print(\"Packed batch:\", packed_batch)  # Упакованные последовательности\n",
    "#     print(\"Labels shape:\", labels_batch.shape)  # Метки\n"
   ]
  },
  {
   "cell_type": "markdown",
   "metadata": {
    "id": "09cX6k5onujC"
   },
   "source": [
    "Rnn initialization"
   ]
  },
  {
   "cell_type": "code",
   "execution_count": null,
   "metadata": {
    "id": "4OML58b5nujD"
   },
   "outputs": [],
   "source": [
    "class RNNModel(nn.Module):\n",
    "    def __init__(self, input_size, hidden_size, num_layers, output_size, dropout=0.3):\n",
    "        super(RNNModel, self).__init__()\n",
    "        self.rnn = nn.LSTM(input_size, hidden_size, num_layers, batch_first=True, dropout=dropout)\n",
    "        self.fc = nn.Sequential(torch.nn.Linear(hidden_size, output_size), torch.nn.Sigmoid())\n",
    "\n",
    "    def forward(self, packed_input):\n",
    "        packed_output, (hidden, _) = self.rnn(packed_input)  # RNN принимает PackedSequence\n",
    "        output = self.fc(hidden[-1])  # Используем последний скрытый слой\n",
    "        return output"
   ]
  },
  {
   "cell_type": "code",
   "execution_count": null,
   "metadata": {
    "colab": {
     "base_uri": "https://localhost:8080/"
    },
    "executionInfo": {
     "elapsed": 468,
     "status": "ok",
     "timestamp": 1739621782668,
     "user": {
      "displayName": "Tima Medveditskov",
      "userId": "04748666948672749462"
     },
     "user_tz": -180
    },
    "id": "SkwVtjVCnujD",
    "outputId": "00d28307-bdf0-42c3-f415-c1920c6a165e"
   },
   "outputs": [],
   "source": [
    "# Инициализируем модель\n",
    "rnn = RNNModel(input_size=100, hidden_size=45, num_layers=2, output_size=1).to(device)"
   ]
  },
  {
   "cell_type": "markdown",
   "metadata": {
    "id": "x7dCBagynujD"
   },
   "source": [
    "Traning"
   ]
  },
  {
   "cell_type": "code",
   "execution_count": null,
   "metadata": {
    "id": "aerPqfImnujE"
   },
   "outputs": [],
   "source": [
    "def traning_loop_tqdm(model, num_epochs=1, learning_rate=0.01):\n",
    "    model.train()\n",
    "    criterion = torch.nn.MSELoss() # оптимизатор\n",
    "    optimizer = torch.optim.Adam(model.parameters(), lr=learning_rate, weight_decay=1e-5) # функция ошибки\n",
    "\n",
    "    # цикл обучения\n",
    "    for epoch in range(num_epochs):\n",
    "      with tqdm(train_loader, desc=f\"Epoch {epoch+1}/{num_epochs}\", unit=\"batch\", colour=\"green\") as t:\n",
    "        for packed_sequences, labels in t:\n",
    "            y_pred = model(packed_sequences)\n",
    "            optimizer.zero_grad()\n",
    "\n",
    "            # обратное распространение ошибки\n",
    "            loss = criterion(y_pred.squeeze(), labels)\n",
    "            loss.backward()\n",
    "\n",
    "            # корректировка весов модели\n",
    "            optimizer.step()\n",
    "            t.set_postfix(loss=loss.item() / len(train_loader))"
   ]
  },
  {
   "cell_type": "code",
   "execution_count": null,
   "metadata": {
    "colab": {
     "base_uri": "https://localhost:8080/",
     "height": 66,
     "referenced_widgets": [
      "60aaad84c33b4ac1b4bf9a1fc00cd9c1",
      "8cac0a447c634c1e9f86f35c19e472b6",
      "183889b94d514be29f5e15288da12a53",
      "5c35731d0c2c47bca9c788062766d630",
      "c9132883bb1b4872b3416cced136f44c",
      "79e07a529bbb481ab553caeeb511f14e",
      "dfd900d204c14155accfd84a22af39be",
      "a6e01d545bf34f7db85957cd1dd38df9",
      "b5e795c811c842da80e5666152d01dc2",
      "49c0640173284a458c949dc1e59aeb15",
      "1c1a61626e4d4f70a10901aa7026b01c"
     ]
    },
    "executionInfo": {
     "elapsed": 29511,
     "status": "ok",
     "timestamp": 1739621824478,
     "user": {
      "displayName": "Tima Medveditskov",
      "userId": "04748666948672749462"
     },
     "user_tz": -180
    },
    "id": "heHGUE6CnujF",
    "outputId": "4aa04f16-5e21-4eda-eed6-e3b2a29f6b17"
   },
   "outputs": [],
   "source": [
    "print(\"Let's start training!\")\n",
    "traning_loop_tqdm(rnn)"
   ]
  },
  {
   "cell_type": "markdown",
   "metadata": {
    "id": "RfmLFM5LnujH"
   },
   "source": [
    "# Score"
   ]
  },
  {
   "cell_type": "markdown",
   "metadata": {
    "id": "YmhGyfjqnujI"
   },
   "source": [
    "Accurecy"
   ]
  },
  {
   "cell_type": "code",
   "execution_count": null,
   "metadata": {
    "colab": {
     "base_uri": "https://localhost:8080/"
    },
    "executionInfo": {
     "elapsed": 4835,
     "status": "ok",
     "timestamp": 1738600252445,
     "user": {
      "displayName": "Tima Medveditskov",
      "userId": "04748666948672749462"
     },
     "user_tz": -180
    },
    "id": "1_VutPOhnujJ",
    "outputId": "79215ea5-34ca-4db9-ddce-13a00c31333e"
   },
   "outputs": [],
   "source": [
    "# процент правильных предсказаний в тестовой выборке через dataloader\n",
    "rnn.eval()\n",
    "correct = 0\n",
    "total = 0\n",
    "with torch.no_grad():\n",
    "    for texts, labels in test_loader:\n",
    "        outputs = rnn(texts)\n",
    "\n",
    "        outputs = torch.squeeze(outputs)\n",
    "        outputs = torch.round(outputs)\n",
    "        labels = torch.round(labels)\n",
    "        correct_vec = torch.eq(outputs, labels)\n",
    "        correct += torch.sum(correct_vec)\n",
    "        total += labels.size(0)\n",
    "\n",
    "accuracy = 100 * correct / total\n",
    "print(f'Correct: {correct} total: {total}')\n",
    "print(f'Accuracy: {accuracy:.4f}%')"
   ]
  },
  {
   "cell_type": "markdown",
   "metadata": {
    "id": "Bg2jCfHBnujJ"
   },
   "source": [
    "Recall, Precision, F1_score, Accurecy"
   ]
  },
  {
   "cell_type": "code",
   "execution_count": null,
   "metadata": {
    "id": "Q1SoXDJynujK"
   },
   "outputs": [],
   "source": [
    "def evaluate_classification(model, dataloader, device):\n",
    "    model.eval()\n",
    "    all_preds, all_labels = [], []\n",
    "\n",
    "    with torch.no_grad():\n",
    "        for inputs, labels in dataloader:\n",
    "            inputs, labels = inputs.to(device), labels.to(device)\n",
    "            outputs = model(inputs)\n",
    "\n",
    "            preds = torch.squeeze(outputs)\n",
    "            preds = torch.round(preds)\n",
    "            labels = torch.round(labels)\n",
    "\n",
    "            all_preds.extend(preds.cpu().numpy())\n",
    "            all_labels.extend(labels.cpu().numpy())\n",
    "\n",
    "    # Метрики\n",
    "    accuracy = accuracy_score(all_labels, all_preds)\n",
    "    precision = precision_score(all_labels, all_preds, average=\"weighted\")\n",
    "    recall = recall_score(all_labels, all_preds, average=\"weighted\")\n",
    "    f1 = f1_score(all_labels, all_preds, average=\"weighted\")\n",
    "\n",
    "    return {\n",
    "        \"accuracy\": accuracy,\n",
    "        \"precision\": precision,\n",
    "        \"recall\": recall,\n",
    "        \"f1_score\": f1\n",
    "    }"
   ]
  },
  {
   "cell_type": "code",
   "execution_count": null,
   "metadata": {
    "colab": {
     "base_uri": "https://localhost:8080/"
    },
    "executionInfo": {
     "elapsed": 3669,
     "status": "ok",
     "timestamp": 1738600266907,
     "user": {
      "displayName": "Tima Medveditskov",
      "userId": "04748666948672749462"
     },
     "user_tz": -180
    },
    "id": "GV4g-YPBnujK",
    "outputId": "4bb71b6e-bedf-4225-d0ae-fdcde532a3fa"
   },
   "outputs": [],
   "source": [
    "results = evaluate_classification(rnn, test_loader, device)\n",
    "print(\"Классификация:\", results)"
   ]
  },
  {
   "cell_type": "markdown",
   "metadata": {
    "id": "OsRYnF1AnujU"
   },
   "source": [
    "Saving"
   ]
  },
  {
   "cell_type": "code",
   "execution_count": null,
   "metadata": {
    "id": "nHPevbGRnujU"
   },
   "outputs": [],
   "source": [
    "torch.save(rnn.state_dict(), \"rnn_model_weights.pth\")"
   ]
  },
  {
   "cell_type": "markdown",
   "metadata": {
    "id": "LLNGOwoEnujV"
   },
   "source": [
    "Clearning the memory"
   ]
  },
  {
   "cell_type": "code",
   "execution_count": null,
   "metadata": {
    "id": "F7Ap-QWanujV"
   },
   "outputs": [],
   "source": [
    "del rnn, X_test, Y_test, X_train, Y_train, test_loader, train_loader, test_dataset, train_dataset\n",
    "gc.collect()\n",
    "torch.cuda.empty_cache()"
   ]
  },
  {
   "cell_type": "markdown",
   "metadata": {
    "id": "hdpyyZuJnujW"
   },
   "source": [
    "# Using and testing"
   ]
  },
  {
   "cell_type": "markdown",
   "metadata": {
    "id": "D743gxUXnujW"
   },
   "source": [
    "Rnn initialization + function"
   ]
  },
  {
   "cell_type": "code",
   "execution_count": null,
   "metadata": {
    "id": "K7pL7TcanujX"
   },
   "outputs": [],
   "source": [
    "class RNNModel(nn.Module):\n",
    "    def __init__(self, input_size, hidden_size, num_layers, output_size):\n",
    "        super(RNNModel, self).__init__()\n",
    "        self.rnn = nn.LSTM(input_size, hidden_size, num_layers, batch_first=True)\n",
    "        self.fc = nn.Sequential(torch.nn.Linear(hidden_size, 1), torch.nn.Sigmoid())\n",
    "\n",
    "    def forward(self, packed_input):\n",
    "        packed_output, (hidden, _) = self.rnn(packed_input)  # RNN принимает PackedSequence\n",
    "        output = self.fc(hidden[-1])  # Используем последний скрытый слой\n",
    "        return output\n",
    "\n",
    "model = RNNModel(input_size=100, hidden_size=128, num_layers=1, output_size=1)"
   ]
  },
  {
   "cell_type": "code",
   "execution_count": null,
   "metadata": {
    "id": "iWIqBv1jnujX"
   },
   "outputs": [],
   "source": [
    "def text_to_vec(text):\n",
    "    tokens = nltk.tokenize.word_tokenize(text.lower())\n",
    "    vector = [w2v.wv[token].tolist() if token in w2v.wv else w2v.wv['notfound'].tolist() for token in tokens]\n",
    "    return vector"
   ]
  },
  {
   "cell_type": "markdown",
   "metadata": {
    "id": "v6MqR5RDnujY"
   },
   "source": [
    "Load rnn and gensim modeles"
   ]
  },
  {
   "cell_type": "code",
   "execution_count": null,
   "metadata": {
    "id": "mhwdiwXGnujY",
    "outputId": "df537d1a-8bd1-4953-85e6-72cb2fb50204"
   },
   "outputs": [],
   "source": [
    "model.load_state_dict(torch.load(\"rnn_model_weights.pth\"))\n",
    "model.eval()\n",
    "\n",
    "w2v = gensim.models.Word2Vec.load(\"word2vec_weights.model\")"
   ]
  },
  {
   "cell_type": "markdown",
   "metadata": {
    "id": "7RSRL8F_nujZ"
   },
   "source": [
    "Using"
   ]
  },
  {
   "cell_type": "code",
   "execution_count": null,
   "metadata": {},
   "outputs": [],
   "source": [
    "# пользовательский ввод\n",
    "input_for_model = input()"
   ]
  },
  {
   "cell_type": "code",
   "execution_count": null,
   "metadata": {
    "id": "CBDfrWk0nujZ"
   },
   "outputs": [],
   "source": [
    "# пользовательский ввод\n",
    "input_for_model = \"' OR 1 = 1 #\""
   ]
  },
  {
   "cell_type": "code",
   "execution_count": null,
   "metadata": {
    "id": "GvdS9hvAnuja",
    "outputId": "279e147d-7c0e-4873-8869-fe1544add0f0"
   },
   "outputs": [],
   "source": [
    "# получение предсказания\n",
    "\n",
    "input_vector = text_to_vec(input_for_model)\n",
    "input_vector = torch.tensor(input_vector)\n",
    "\n",
    "predict = model(input_vector)\n",
    "print(predict)\n",
    "ans = float(predict.item())\n",
    "print(f'Ans: {ans:.8f}')"
   ]
  }
 ],
 "metadata": {
  "accelerator": "GPU",
  "colab": {
   "gpuType": "T4",
   "provenance": []
  },
  "kernelspec": {
   "display_name": "Python 3",
   "name": "python3"
  },
  "language_info": {
   "codemirror_mode": {
    "name": "ipython",
    "version": 3
   },
   "file_extension": ".py",
   "mimetype": "text/x-python",
   "name": "python",
   "nbconvert_exporter": "python",
   "pygments_lexer": "ipython3",
   "version": "3.13.2"
  },
  "widgets": {
   "application/vnd.jupyter.widget-state+json": {
    "094b743d9640481fa9906cc5b63b79c0": {
     "model_module": "@jupyter-widgets/base",
     "model_module_version": "1.2.0",
     "model_name": "LayoutModel",
     "state": {
      "_model_module": "@jupyter-widgets/base",
      "_model_module_version": "1.2.0",
      "_model_name": "LayoutModel",
      "_view_count": null,
      "_view_module": "@jupyter-widgets/base",
      "_view_module_version": "1.2.0",
      "_view_name": "LayoutView",
      "align_content": null,
      "align_items": null,
      "align_self": null,
      "border": null,
      "bottom": null,
      "display": null,
      "flex": null,
      "flex_flow": null,
      "grid_area": null,
      "grid_auto_columns": null,
      "grid_auto_flow": null,
      "grid_auto_rows": null,
      "grid_column": null,
      "grid_gap": null,
      "grid_row": null,
      "grid_template_areas": null,
      "grid_template_columns": null,
      "grid_template_rows": null,
      "height": null,
      "justify_content": null,
      "justify_items": null,
      "left": null,
      "margin": null,
      "max_height": null,
      "max_width": null,
      "min_height": null,
      "min_width": null,
      "object_fit": null,
      "object_position": null,
      "order": null,
      "overflow": null,
      "overflow_x": null,
      "overflow_y": null,
      "padding": null,
      "right": null,
      "top": null,
      "visibility": null,
      "width": null
     }
    },
    "183889b94d514be29f5e15288da12a53": {
     "model_module": "@jupyter-widgets/controls",
     "model_module_version": "1.5.0",
     "model_name": "FloatProgressModel",
     "state": {
      "_dom_classes": [],
      "_model_module": "@jupyter-widgets/controls",
      "_model_module_version": "1.5.0",
      "_model_name": "FloatProgressModel",
      "_view_count": null,
      "_view_module": "@jupyter-widgets/controls",
      "_view_module_version": "1.5.0",
      "_view_name": "ProgressView",
      "bar_style": "success",
      "description": "",
      "description_tooltip": null,
      "layout": "IPY_MODEL_a6e01d545bf34f7db85957cd1dd38df9",
      "max": 1506,
      "min": 0,
      "orientation": "horizontal",
      "style": "IPY_MODEL_b5e795c811c842da80e5666152d01dc2",
      "value": 1506
     }
    },
    "1c1a61626e4d4f70a10901aa7026b01c": {
     "model_module": "@jupyter-widgets/controls",
     "model_module_version": "1.5.0",
     "model_name": "DescriptionStyleModel",
     "state": {
      "_model_module": "@jupyter-widgets/controls",
      "_model_module_version": "1.5.0",
      "_model_name": "DescriptionStyleModel",
      "_view_count": null,
      "_view_module": "@jupyter-widgets/base",
      "_view_module_version": "1.2.0",
      "_view_name": "StyleView",
      "description_width": ""
     }
    },
    "229fe209437144e6a1d221d534e88edf": {
     "model_module": "@jupyter-widgets/controls",
     "model_module_version": "1.5.0",
     "model_name": "ProgressStyleModel",
     "state": {
      "_model_module": "@jupyter-widgets/controls",
      "_model_module_version": "1.5.0",
      "_model_name": "ProgressStyleModel",
      "_view_count": null,
      "_view_module": "@jupyter-widgets/base",
      "_view_module_version": "1.2.0",
      "_view_name": "StyleView",
      "bar_color": null,
      "description_width": ""
     }
    },
    "255e5128b7b245da91322f54d320d2e2": {
     "model_module": "@jupyter-widgets/controls",
     "model_module_version": "1.5.0",
     "model_name": "HBoxModel",
     "state": {
      "_dom_classes": [],
      "_model_module": "@jupyter-widgets/controls",
      "_model_module_version": "1.5.0",
      "_model_name": "HBoxModel",
      "_view_count": null,
      "_view_module": "@jupyter-widgets/controls",
      "_view_module_version": "1.5.0",
      "_view_name": "HBoxView",
      "box_style": "",
      "children": [
       "IPY_MODEL_77b060e0e4b34fd6ac361a90d5ca6f20",
       "IPY_MODEL_2a57e6ce66b2418386f8dc5652ef4943",
       "IPY_MODEL_9423f01d35f4493c9b97d56be05174e2"
      ],
      "layout": "IPY_MODEL_094b743d9640481fa9906cc5b63b79c0"
     }
    },
    "2a57e6ce66b2418386f8dc5652ef4943": {
     "model_module": "@jupyter-widgets/controls",
     "model_module_version": "1.5.0",
     "model_name": "FloatProgressModel",
     "state": {
      "_dom_classes": [],
      "_model_module": "@jupyter-widgets/controls",
      "_model_module_version": "1.5.0",
      "_model_name": "FloatProgressModel",
      "_view_count": null,
      "_view_module": "@jupyter-widgets/controls",
      "_view_module_version": "1.5.0",
      "_view_name": "ProgressView",
      "bar_style": "success",
      "description": "",
      "description_tooltip": null,
      "layout": "IPY_MODEL_709b915b764e4309bbc7c8775099962a",
      "max": 68832,
      "min": 0,
      "orientation": "horizontal",
      "style": "IPY_MODEL_50986068eb1e4d059f15c95091171b94",
      "value": 68832
     }
    },
    "2d85f27670b240ea9df15bdd7d19d978": {
     "model_module": "@jupyter-widgets/controls",
     "model_module_version": "1.5.0",
     "model_name": "DescriptionStyleModel",
     "state": {
      "_model_module": "@jupyter-widgets/controls",
      "_model_module_version": "1.5.0",
      "_model_name": "DescriptionStyleModel",
      "_view_count": null,
      "_view_module": "@jupyter-widgets/base",
      "_view_module_version": "1.2.0",
      "_view_name": "StyleView",
      "description_width": ""
     }
    },
    "4219dd9221e0425c93c960fd18dccf13": {
     "model_module": "@jupyter-widgets/controls",
     "model_module_version": "1.5.0",
     "model_name": "HBoxModel",
     "state": {
      "_dom_classes": [],
      "_model_module": "@jupyter-widgets/controls",
      "_model_module_version": "1.5.0",
      "_model_name": "HBoxModel",
      "_view_count": null,
      "_view_module": "@jupyter-widgets/controls",
      "_view_module_version": "1.5.0",
      "_view_name": "HBoxView",
      "box_style": "",
      "children": [
       "IPY_MODEL_7976f9d91fbe4c7882de6060e21e3148",
       "IPY_MODEL_d354cecda48c4b50ac434a74959a42ae",
       "IPY_MODEL_dad0f27048a74140ae461a9f381d98fc"
      ],
      "layout": "IPY_MODEL_e0400e6ddfa540c08ecbee936c87469c"
     }
    },
    "49c0640173284a458c949dc1e59aeb15": {
     "model_module": "@jupyter-widgets/base",
     "model_module_version": "1.2.0",
     "model_name": "LayoutModel",
     "state": {
      "_model_module": "@jupyter-widgets/base",
      "_model_module_version": "1.2.0",
      "_model_name": "LayoutModel",
      "_view_count": null,
      "_view_module": "@jupyter-widgets/base",
      "_view_module_version": "1.2.0",
      "_view_name": "LayoutView",
      "align_content": null,
      "align_items": null,
      "align_self": null,
      "border": null,
      "bottom": null,
      "display": null,
      "flex": null,
      "flex_flow": null,
      "grid_area": null,
      "grid_auto_columns": null,
      "grid_auto_flow": null,
      "grid_auto_rows": null,
      "grid_column": null,
      "grid_gap": null,
      "grid_row": null,
      "grid_template_areas": null,
      "grid_template_columns": null,
      "grid_template_rows": null,
      "height": null,
      "justify_content": null,
      "justify_items": null,
      "left": null,
      "margin": null,
      "max_height": null,
      "max_width": null,
      "min_height": null,
      "min_width": null,
      "object_fit": null,
      "object_position": null,
      "order": null,
      "overflow": null,
      "overflow_x": null,
      "overflow_y": null,
      "padding": null,
      "right": null,
      "top": null,
      "visibility": null,
      "width": null
     }
    },
    "4d76b304f83a478799d743a1045f736a": {
     "model_module": "@jupyter-widgets/base",
     "model_module_version": "1.2.0",
     "model_name": "LayoutModel",
     "state": {
      "_model_module": "@jupyter-widgets/base",
      "_model_module_version": "1.2.0",
      "_model_name": "LayoutModel",
      "_view_count": null,
      "_view_module": "@jupyter-widgets/base",
      "_view_module_version": "1.2.0",
      "_view_name": "LayoutView",
      "align_content": null,
      "align_items": null,
      "align_self": null,
      "border": null,
      "bottom": null,
      "display": null,
      "flex": null,
      "flex_flow": null,
      "grid_area": null,
      "grid_auto_columns": null,
      "grid_auto_flow": null,
      "grid_auto_rows": null,
      "grid_column": null,
      "grid_gap": null,
      "grid_row": null,
      "grid_template_areas": null,
      "grid_template_columns": null,
      "grid_template_rows": null,
      "height": null,
      "justify_content": null,
      "justify_items": null,
      "left": null,
      "margin": null,
      "max_height": null,
      "max_width": null,
      "min_height": null,
      "min_width": null,
      "object_fit": null,
      "object_position": null,
      "order": null,
      "overflow": null,
      "overflow_x": null,
      "overflow_y": null,
      "padding": null,
      "right": null,
      "top": null,
      "visibility": null,
      "width": null
     }
    },
    "50986068eb1e4d059f15c95091171b94": {
     "model_module": "@jupyter-widgets/controls",
     "model_module_version": "1.5.0",
     "model_name": "ProgressStyleModel",
     "state": {
      "_model_module": "@jupyter-widgets/controls",
      "_model_module_version": "1.5.0",
      "_model_name": "ProgressStyleModel",
      "_view_count": null,
      "_view_module": "@jupyter-widgets/base",
      "_view_module_version": "1.2.0",
      "_view_name": "StyleView",
      "bar_color": null,
      "description_width": ""
     }
    },
    "5c35731d0c2c47bca9c788062766d630": {
     "model_module": "@jupyter-widgets/controls",
     "model_module_version": "1.5.0",
     "model_name": "HTMLModel",
     "state": {
      "_dom_classes": [],
      "_model_module": "@jupyter-widgets/controls",
      "_model_module_version": "1.5.0",
      "_model_name": "HTMLModel",
      "_view_count": null,
      "_view_module": "@jupyter-widgets/controls",
      "_view_module_version": "1.5.0",
      "_view_name": "HTMLView",
      "description": "",
      "description_tooltip": null,
      "layout": "IPY_MODEL_49c0640173284a458c949dc1e59aeb15",
      "placeholder": "​",
      "style": "IPY_MODEL_1c1a61626e4d4f70a10901aa7026b01c",
      "value": " 1506/1506 [00:25&lt;00:00, 74.86batch/s, loss=2.88e-6]"
     }
    },
    "60aaad84c33b4ac1b4bf9a1fc00cd9c1": {
     "model_module": "@jupyter-widgets/controls",
     "model_module_version": "1.5.0",
     "model_name": "HBoxModel",
     "state": {
      "_dom_classes": [],
      "_model_module": "@jupyter-widgets/controls",
      "_model_module_version": "1.5.0",
      "_model_name": "HBoxModel",
      "_view_count": null,
      "_view_module": "@jupyter-widgets/controls",
      "_view_module_version": "1.5.0",
      "_view_name": "HBoxView",
      "box_style": "",
      "children": [
       "IPY_MODEL_8cac0a447c634c1e9f86f35c19e472b6",
       "IPY_MODEL_183889b94d514be29f5e15288da12a53",
       "IPY_MODEL_5c35731d0c2c47bca9c788062766d630"
      ],
      "layout": "IPY_MODEL_c9132883bb1b4872b3416cced136f44c"
     }
    },
    "705866fc60724914b0d6c1726ed27e42": {
     "model_module": "@jupyter-widgets/base",
     "model_module_version": "1.2.0",
     "model_name": "LayoutModel",
     "state": {
      "_model_module": "@jupyter-widgets/base",
      "_model_module_version": "1.2.0",
      "_model_name": "LayoutModel",
      "_view_count": null,
      "_view_module": "@jupyter-widgets/base",
      "_view_module_version": "1.2.0",
      "_view_name": "LayoutView",
      "align_content": null,
      "align_items": null,
      "align_self": null,
      "border": null,
      "bottom": null,
      "display": null,
      "flex": null,
      "flex_flow": null,
      "grid_area": null,
      "grid_auto_columns": null,
      "grid_auto_flow": null,
      "grid_auto_rows": null,
      "grid_column": null,
      "grid_gap": null,
      "grid_row": null,
      "grid_template_areas": null,
      "grid_template_columns": null,
      "grid_template_rows": null,
      "height": null,
      "justify_content": null,
      "justify_items": null,
      "left": null,
      "margin": null,
      "max_height": null,
      "max_width": null,
      "min_height": null,
      "min_width": null,
      "object_fit": null,
      "object_position": null,
      "order": null,
      "overflow": null,
      "overflow_x": null,
      "overflow_y": null,
      "padding": null,
      "right": null,
      "top": null,
      "visibility": null,
      "width": null
     }
    },
    "709b915b764e4309bbc7c8775099962a": {
     "model_module": "@jupyter-widgets/base",
     "model_module_version": "1.2.0",
     "model_name": "LayoutModel",
     "state": {
      "_model_module": "@jupyter-widgets/base",
      "_model_module_version": "1.2.0",
      "_model_name": "LayoutModel",
      "_view_count": null,
      "_view_module": "@jupyter-widgets/base",
      "_view_module_version": "1.2.0",
      "_view_name": "LayoutView",
      "align_content": null,
      "align_items": null,
      "align_self": null,
      "border": null,
      "bottom": null,
      "display": null,
      "flex": null,
      "flex_flow": null,
      "grid_area": null,
      "grid_auto_columns": null,
      "grid_auto_flow": null,
      "grid_auto_rows": null,
      "grid_column": null,
      "grid_gap": null,
      "grid_row": null,
      "grid_template_areas": null,
      "grid_template_columns": null,
      "grid_template_rows": null,
      "height": null,
      "justify_content": null,
      "justify_items": null,
      "left": null,
      "margin": null,
      "max_height": null,
      "max_width": null,
      "min_height": null,
      "min_width": null,
      "object_fit": null,
      "object_position": null,
      "order": null,
      "overflow": null,
      "overflow_x": null,
      "overflow_y": null,
      "padding": null,
      "right": null,
      "top": null,
      "visibility": null,
      "width": null
     }
    },
    "77b060e0e4b34fd6ac361a90d5ca6f20": {
     "model_module": "@jupyter-widgets/controls",
     "model_module_version": "1.5.0",
     "model_name": "HTMLModel",
     "state": {
      "_dom_classes": [],
      "_model_module": "@jupyter-widgets/controls",
      "_model_module_version": "1.5.0",
      "_model_name": "HTMLModel",
      "_view_count": null,
      "_view_module": "@jupyter-widgets/controls",
      "_view_module_version": "1.5.0",
      "_view_name": "HTMLView",
      "description": "",
      "description_tooltip": null,
      "layout": "IPY_MODEL_e0940e2a2e52410090a92e09fedd30fa",
      "placeholder": "​",
      "style": "IPY_MODEL_2d85f27670b240ea9df15bdd7d19d978",
      "value": "modif_ans: 100%"
     }
    },
    "7976f9d91fbe4c7882de6060e21e3148": {
     "model_module": "@jupyter-widgets/controls",
     "model_module_version": "1.5.0",
     "model_name": "HTMLModel",
     "state": {
      "_dom_classes": [],
      "_model_module": "@jupyter-widgets/controls",
      "_model_module_version": "1.5.0",
      "_model_name": "HTMLModel",
      "_view_count": null,
      "_view_module": "@jupyter-widgets/controls",
      "_view_module_version": "1.5.0",
      "_view_name": "HTMLView",
      "description": "",
      "description_tooltip": null,
      "layout": "IPY_MODEL_e33505b7a46d426cb7f591f47e8fd56a",
      "placeholder": "​",
      "style": "IPY_MODEL_f17912108053436c950a987e043a9c09",
      "value": "text_to_vec: 100%"
     }
    },
    "79e07a529bbb481ab553caeeb511f14e": {
     "model_module": "@jupyter-widgets/base",
     "model_module_version": "1.2.0",
     "model_name": "LayoutModel",
     "state": {
      "_model_module": "@jupyter-widgets/base",
      "_model_module_version": "1.2.0",
      "_model_name": "LayoutModel",
      "_view_count": null,
      "_view_module": "@jupyter-widgets/base",
      "_view_module_version": "1.2.0",
      "_view_name": "LayoutView",
      "align_content": null,
      "align_items": null,
      "align_self": null,
      "border": null,
      "bottom": null,
      "display": null,
      "flex": null,
      "flex_flow": null,
      "grid_area": null,
      "grid_auto_columns": null,
      "grid_auto_flow": null,
      "grid_auto_rows": null,
      "grid_column": null,
      "grid_gap": null,
      "grid_row": null,
      "grid_template_areas": null,
      "grid_template_columns": null,
      "grid_template_rows": null,
      "height": null,
      "justify_content": null,
      "justify_items": null,
      "left": null,
      "margin": null,
      "max_height": null,
      "max_width": null,
      "min_height": null,
      "min_width": null,
      "object_fit": null,
      "object_position": null,
      "order": null,
      "overflow": null,
      "overflow_x": null,
      "overflow_y": null,
      "padding": null,
      "right": null,
      "top": null,
      "visibility": null,
      "width": null
     }
    },
    "8cac0a447c634c1e9f86f35c19e472b6": {
     "model_module": "@jupyter-widgets/controls",
     "model_module_version": "1.5.0",
     "model_name": "HTMLModel",
     "state": {
      "_dom_classes": [],
      "_model_module": "@jupyter-widgets/controls",
      "_model_module_version": "1.5.0",
      "_model_name": "HTMLModel",
      "_view_count": null,
      "_view_module": "@jupyter-widgets/controls",
      "_view_module_version": "1.5.0",
      "_view_name": "HTMLView",
      "description": "",
      "description_tooltip": null,
      "layout": "IPY_MODEL_79e07a529bbb481ab553caeeb511f14e",
      "placeholder": "​",
      "style": "IPY_MODEL_dfd900d204c14155accfd84a22af39be",
      "value": "Epoch 1/1: 100%"
     }
    },
    "9423f01d35f4493c9b97d56be05174e2": {
     "model_module": "@jupyter-widgets/controls",
     "model_module_version": "1.5.0",
     "model_name": "HTMLModel",
     "state": {
      "_dom_classes": [],
      "_model_module": "@jupyter-widgets/controls",
      "_model_module_version": "1.5.0",
      "_model_name": "HTMLModel",
      "_view_count": null,
      "_view_module": "@jupyter-widgets/controls",
      "_view_module_version": "1.5.0",
      "_view_name": "HTMLView",
      "description": "",
      "description_tooltip": null,
      "layout": "IPY_MODEL_e27c3666186c4123a2c5927ed15b7b74",
      "placeholder": "​",
      "style": "IPY_MODEL_e1b765ebf5b9472f99011c3572a6b630",
      "value": " 68832/68832 [00:00&lt;00:00, 780306.10it/s]"
     }
    },
    "a6e01d545bf34f7db85957cd1dd38df9": {
     "model_module": "@jupyter-widgets/base",
     "model_module_version": "1.2.0",
     "model_name": "LayoutModel",
     "state": {
      "_model_module": "@jupyter-widgets/base",
      "_model_module_version": "1.2.0",
      "_model_name": "LayoutModel",
      "_view_count": null,
      "_view_module": "@jupyter-widgets/base",
      "_view_module_version": "1.2.0",
      "_view_name": "LayoutView",
      "align_content": null,
      "align_items": null,
      "align_self": null,
      "border": null,
      "bottom": null,
      "display": null,
      "flex": null,
      "flex_flow": null,
      "grid_area": null,
      "grid_auto_columns": null,
      "grid_auto_flow": null,
      "grid_auto_rows": null,
      "grid_column": null,
      "grid_gap": null,
      "grid_row": null,
      "grid_template_areas": null,
      "grid_template_columns": null,
      "grid_template_rows": null,
      "height": null,
      "justify_content": null,
      "justify_items": null,
      "left": null,
      "margin": null,
      "max_height": null,
      "max_width": null,
      "min_height": null,
      "min_width": null,
      "object_fit": null,
      "object_position": null,
      "order": null,
      "overflow": null,
      "overflow_x": null,
      "overflow_y": null,
      "padding": null,
      "right": null,
      "top": null,
      "visibility": null,
      "width": null
     }
    },
    "b5e795c811c842da80e5666152d01dc2": {
     "model_module": "@jupyter-widgets/controls",
     "model_module_version": "1.5.0",
     "model_name": "ProgressStyleModel",
     "state": {
      "_model_module": "@jupyter-widgets/controls",
      "_model_module_version": "1.5.0",
      "_model_name": "ProgressStyleModel",
      "_view_count": null,
      "_view_module": "@jupyter-widgets/base",
      "_view_module_version": "1.2.0",
      "_view_name": "StyleView",
      "bar_color": "green",
      "description_width": ""
     }
    },
    "c9132883bb1b4872b3416cced136f44c": {
     "model_module": "@jupyter-widgets/base",
     "model_module_version": "1.2.0",
     "model_name": "LayoutModel",
     "state": {
      "_model_module": "@jupyter-widgets/base",
      "_model_module_version": "1.2.0",
      "_model_name": "LayoutModel",
      "_view_count": null,
      "_view_module": "@jupyter-widgets/base",
      "_view_module_version": "1.2.0",
      "_view_name": "LayoutView",
      "align_content": null,
      "align_items": null,
      "align_self": null,
      "border": null,
      "bottom": null,
      "display": null,
      "flex": null,
      "flex_flow": null,
      "grid_area": null,
      "grid_auto_columns": null,
      "grid_auto_flow": null,
      "grid_auto_rows": null,
      "grid_column": null,
      "grid_gap": null,
      "grid_row": null,
      "grid_template_areas": null,
      "grid_template_columns": null,
      "grid_template_rows": null,
      "height": null,
      "justify_content": null,
      "justify_items": null,
      "left": null,
      "margin": null,
      "max_height": null,
      "max_width": null,
      "min_height": null,
      "min_width": null,
      "object_fit": null,
      "object_position": null,
      "order": null,
      "overflow": null,
      "overflow_x": null,
      "overflow_y": null,
      "padding": null,
      "right": null,
      "top": null,
      "visibility": null,
      "width": null
     }
    },
    "d354cecda48c4b50ac434a74959a42ae": {
     "model_module": "@jupyter-widgets/controls",
     "model_module_version": "1.5.0",
     "model_name": "FloatProgressModel",
     "state": {
      "_dom_classes": [],
      "_model_module": "@jupyter-widgets/controls",
      "_model_module_version": "1.5.0",
      "_model_name": "FloatProgressModel",
      "_view_count": null,
      "_view_module": "@jupyter-widgets/controls",
      "_view_module_version": "1.5.0",
      "_view_name": "ProgressView",
      "bar_style": "success",
      "description": "",
      "description_tooltip": null,
      "layout": "IPY_MODEL_705866fc60724914b0d6c1726ed27e42",
      "max": 68832,
      "min": 0,
      "orientation": "horizontal",
      "style": "IPY_MODEL_229fe209437144e6a1d221d534e88edf",
      "value": 68832
     }
    },
    "dad0f27048a74140ae461a9f381d98fc": {
     "model_module": "@jupyter-widgets/controls",
     "model_module_version": "1.5.0",
     "model_name": "HTMLModel",
     "state": {
      "_dom_classes": [],
      "_model_module": "@jupyter-widgets/controls",
      "_model_module_version": "1.5.0",
      "_model_name": "HTMLModel",
      "_view_count": null,
      "_view_module": "@jupyter-widgets/controls",
      "_view_module_version": "1.5.0",
      "_view_name": "HTMLView",
      "description": "",
      "description_tooltip": null,
      "layout": "IPY_MODEL_4d76b304f83a478799d743a1045f736a",
      "placeholder": "​",
      "style": "IPY_MODEL_e32b231a87c14220a85c52ceafebb38c",
      "value": " 68832/68832 [00:16&lt;00:00, 1514.38it/s]"
     }
    },
    "dfd900d204c14155accfd84a22af39be": {
     "model_module": "@jupyter-widgets/controls",
     "model_module_version": "1.5.0",
     "model_name": "DescriptionStyleModel",
     "state": {
      "_model_module": "@jupyter-widgets/controls",
      "_model_module_version": "1.5.0",
      "_model_name": "DescriptionStyleModel",
      "_view_count": null,
      "_view_module": "@jupyter-widgets/base",
      "_view_module_version": "1.2.0",
      "_view_name": "StyleView",
      "description_width": ""
     }
    },
    "e0400e6ddfa540c08ecbee936c87469c": {
     "model_module": "@jupyter-widgets/base",
     "model_module_version": "1.2.0",
     "model_name": "LayoutModel",
     "state": {
      "_model_module": "@jupyter-widgets/base",
      "_model_module_version": "1.2.0",
      "_model_name": "LayoutModel",
      "_view_count": null,
      "_view_module": "@jupyter-widgets/base",
      "_view_module_version": "1.2.0",
      "_view_name": "LayoutView",
      "align_content": null,
      "align_items": null,
      "align_self": null,
      "border": null,
      "bottom": null,
      "display": null,
      "flex": null,
      "flex_flow": null,
      "grid_area": null,
      "grid_auto_columns": null,
      "grid_auto_flow": null,
      "grid_auto_rows": null,
      "grid_column": null,
      "grid_gap": null,
      "grid_row": null,
      "grid_template_areas": null,
      "grid_template_columns": null,
      "grid_template_rows": null,
      "height": null,
      "justify_content": null,
      "justify_items": null,
      "left": null,
      "margin": null,
      "max_height": null,
      "max_width": null,
      "min_height": null,
      "min_width": null,
      "object_fit": null,
      "object_position": null,
      "order": null,
      "overflow": null,
      "overflow_x": null,
      "overflow_y": null,
      "padding": null,
      "right": null,
      "top": null,
      "visibility": null,
      "width": null
     }
    },
    "e0940e2a2e52410090a92e09fedd30fa": {
     "model_module": "@jupyter-widgets/base",
     "model_module_version": "1.2.0",
     "model_name": "LayoutModel",
     "state": {
      "_model_module": "@jupyter-widgets/base",
      "_model_module_version": "1.2.0",
      "_model_name": "LayoutModel",
      "_view_count": null,
      "_view_module": "@jupyter-widgets/base",
      "_view_module_version": "1.2.0",
      "_view_name": "LayoutView",
      "align_content": null,
      "align_items": null,
      "align_self": null,
      "border": null,
      "bottom": null,
      "display": null,
      "flex": null,
      "flex_flow": null,
      "grid_area": null,
      "grid_auto_columns": null,
      "grid_auto_flow": null,
      "grid_auto_rows": null,
      "grid_column": null,
      "grid_gap": null,
      "grid_row": null,
      "grid_template_areas": null,
      "grid_template_columns": null,
      "grid_template_rows": null,
      "height": null,
      "justify_content": null,
      "justify_items": null,
      "left": null,
      "margin": null,
      "max_height": null,
      "max_width": null,
      "min_height": null,
      "min_width": null,
      "object_fit": null,
      "object_position": null,
      "order": null,
      "overflow": null,
      "overflow_x": null,
      "overflow_y": null,
      "padding": null,
      "right": null,
      "top": null,
      "visibility": null,
      "width": null
     }
    },
    "e1b765ebf5b9472f99011c3572a6b630": {
     "model_module": "@jupyter-widgets/controls",
     "model_module_version": "1.5.0",
     "model_name": "DescriptionStyleModel",
     "state": {
      "_model_module": "@jupyter-widgets/controls",
      "_model_module_version": "1.5.0",
      "_model_name": "DescriptionStyleModel",
      "_view_count": null,
      "_view_module": "@jupyter-widgets/base",
      "_view_module_version": "1.2.0",
      "_view_name": "StyleView",
      "description_width": ""
     }
    },
    "e27c3666186c4123a2c5927ed15b7b74": {
     "model_module": "@jupyter-widgets/base",
     "model_module_version": "1.2.0",
     "model_name": "LayoutModel",
     "state": {
      "_model_module": "@jupyter-widgets/base",
      "_model_module_version": "1.2.0",
      "_model_name": "LayoutModel",
      "_view_count": null,
      "_view_module": "@jupyter-widgets/base",
      "_view_module_version": "1.2.0",
      "_view_name": "LayoutView",
      "align_content": null,
      "align_items": null,
      "align_self": null,
      "border": null,
      "bottom": null,
      "display": null,
      "flex": null,
      "flex_flow": null,
      "grid_area": null,
      "grid_auto_columns": null,
      "grid_auto_flow": null,
      "grid_auto_rows": null,
      "grid_column": null,
      "grid_gap": null,
      "grid_row": null,
      "grid_template_areas": null,
      "grid_template_columns": null,
      "grid_template_rows": null,
      "height": null,
      "justify_content": null,
      "justify_items": null,
      "left": null,
      "margin": null,
      "max_height": null,
      "max_width": null,
      "min_height": null,
      "min_width": null,
      "object_fit": null,
      "object_position": null,
      "order": null,
      "overflow": null,
      "overflow_x": null,
      "overflow_y": null,
      "padding": null,
      "right": null,
      "top": null,
      "visibility": null,
      "width": null
     }
    },
    "e32b231a87c14220a85c52ceafebb38c": {
     "model_module": "@jupyter-widgets/controls",
     "model_module_version": "1.5.0",
     "model_name": "DescriptionStyleModel",
     "state": {
      "_model_module": "@jupyter-widgets/controls",
      "_model_module_version": "1.5.0",
      "_model_name": "DescriptionStyleModel",
      "_view_count": null,
      "_view_module": "@jupyter-widgets/base",
      "_view_module_version": "1.2.0",
      "_view_name": "StyleView",
      "description_width": ""
     }
    },
    "e33505b7a46d426cb7f591f47e8fd56a": {
     "model_module": "@jupyter-widgets/base",
     "model_module_version": "1.2.0",
     "model_name": "LayoutModel",
     "state": {
      "_model_module": "@jupyter-widgets/base",
      "_model_module_version": "1.2.0",
      "_model_name": "LayoutModel",
      "_view_count": null,
      "_view_module": "@jupyter-widgets/base",
      "_view_module_version": "1.2.0",
      "_view_name": "LayoutView",
      "align_content": null,
      "align_items": null,
      "align_self": null,
      "border": null,
      "bottom": null,
      "display": null,
      "flex": null,
      "flex_flow": null,
      "grid_area": null,
      "grid_auto_columns": null,
      "grid_auto_flow": null,
      "grid_auto_rows": null,
      "grid_column": null,
      "grid_gap": null,
      "grid_row": null,
      "grid_template_areas": null,
      "grid_template_columns": null,
      "grid_template_rows": null,
      "height": null,
      "justify_content": null,
      "justify_items": null,
      "left": null,
      "margin": null,
      "max_height": null,
      "max_width": null,
      "min_height": null,
      "min_width": null,
      "object_fit": null,
      "object_position": null,
      "order": null,
      "overflow": null,
      "overflow_x": null,
      "overflow_y": null,
      "padding": null,
      "right": null,
      "top": null,
      "visibility": null,
      "width": null
     }
    },
    "f17912108053436c950a987e043a9c09": {
     "model_module": "@jupyter-widgets/controls",
     "model_module_version": "1.5.0",
     "model_name": "DescriptionStyleModel",
     "state": {
      "_model_module": "@jupyter-widgets/controls",
      "_model_module_version": "1.5.0",
      "_model_name": "DescriptionStyleModel",
      "_view_count": null,
      "_view_module": "@jupyter-widgets/base",
      "_view_module_version": "1.2.0",
      "_view_name": "StyleView",
      "description_width": ""
     }
    }
   }
  }
 },
 "nbformat": 4,
 "nbformat_minor": 0
}
